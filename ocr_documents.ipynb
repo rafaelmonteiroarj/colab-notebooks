{
  "nbformat": 4,
  "nbformat_minor": 0,
  "metadata": {
    "colab": {
      "provenance": [],
      "authorship_tag": "ABX9TyOcPQ0wa75Ighjz+EKMquAF",
      "include_colab_link": true
    },
    "kernelspec": {
      "name": "python3",
      "display_name": "Python 3"
    },
    "language_info": {
      "name": "python"
    }
  },
  "cells": [
    {
      "cell_type": "markdown",
      "metadata": {
        "id": "view-in-github",
        "colab_type": "text"
      },
      "source": [
        "<a href=\"https://colab.research.google.com/github/rafaelmonteiroarj/colab-notebooks/blob/main/ocr_documents.ipynb\" target=\"_parent\"><img src=\"https://colab.research.google.com/assets/colab-badge.svg\" alt=\"Open In Colab\"/></a>"
      ]
    },
    {
      "cell_type": "markdown",
      "source": [
        "Instalação do OpenCV:"
      ],
      "metadata": {
        "id": "MOQF7HuDEfSO"
      }
    },
    {
      "cell_type": "code",
      "source": [
        "!pip install opencv-python"
      ],
      "metadata": {
        "id": "RErcF5rxEd15"
      },
      "execution_count": null,
      "outputs": []
    },
    {
      "cell_type": "markdown",
      "source": [
        "Instalação do Tesseract:"
      ],
      "metadata": {
        "id": "QloFOFz5EnbJ"
      }
    },
    {
      "cell_type": "code",
      "source": [
        "# linux\n",
        "!sudo apt-get install tesseract-ocr\n",
        "\n",
        "# macOS\n",
        "# !brew install tesseract\n",
        "\n",
        "!mkdir tessdata\n",
        "!wget -O ./tessdata/por.traineddata https://github.com/tesseract-ocr/tessdata/blob/main/por.traineddata?raw=true\n",
        "!wget -O ./tessdata/eng.traineddata https://github.com/tesseract-ocr/tessdata/blob/main/eng.traineddata?raw=true"
      ],
      "metadata": {
        "colab": {
          "base_uri": "https://localhost:8080/"
        },
        "id": "lbG38IxJEosz",
        "outputId": "bb391f0d-e0c0-4c5b-dc7d-4d46892de329"
      },
      "execution_count": 18,
      "outputs": [
        {
          "output_type": "stream",
          "name": "stdout",
          "text": [
            "--2024-03-22 12:38:04--  https://github.com/tesseract-ocr/tessdata/blob/main/por.traineddata?raw=true\n",
            "Resolving github.com (github.com)... 140.82.112.4\n",
            "Connecting to github.com (github.com)|140.82.112.4|:443... connected.\n",
            "HTTP request sent, awaiting response... 302 Found\n",
            "Location: https://github.com/tesseract-ocr/tessdata/raw/main/por.traineddata [following]\n",
            "--2024-03-22 12:38:04--  https://github.com/tesseract-ocr/tessdata/raw/main/por.traineddata\n",
            "Reusing existing connection to github.com:443.\n",
            "HTTP request sent, awaiting response... 302 Found\n",
            "Location: https://raw.githubusercontent.com/tesseract-ocr/tessdata/main/por.traineddata [following]\n",
            "--2024-03-22 12:38:04--  https://raw.githubusercontent.com/tesseract-ocr/tessdata/main/por.traineddata\n",
            "Resolving raw.githubusercontent.com (raw.githubusercontent.com)... 185.199.111.133, 185.199.109.133, 185.199.110.133, ...\n",
            "Connecting to raw.githubusercontent.com (raw.githubusercontent.com)|185.199.111.133|:443... connected.\n",
            "HTTP request sent, awaiting response... 200 OK\n",
            "Length: 15336931 (15M) [application/octet-stream]\n",
            "Saving to: ‘./tessdata/por.traineddata’\n",
            "\n",
            "./tessdata/por.trai 100%[===================>]  14.63M  82.8MB/s    in 0.2s    \n",
            "\n",
            "2024-03-22 12:38:05 (82.8 MB/s) - ‘./tessdata/por.traineddata’ saved [15336931/15336931]\n",
            "\n",
            "--2024-03-22 12:38:05--  https://github.com/tesseract-ocr/tessdata/blob/main/eng.traineddata?raw=true\n",
            "Resolving github.com (github.com)... 140.82.112.3\n",
            "Connecting to github.com (github.com)|140.82.112.3|:443... connected.\n",
            "HTTP request sent, awaiting response... 302 Found\n",
            "Location: https://github.com/tesseract-ocr/tessdata/raw/main/eng.traineddata [following]\n",
            "--2024-03-22 12:38:05--  https://github.com/tesseract-ocr/tessdata/raw/main/eng.traineddata\n",
            "Reusing existing connection to github.com:443.\n",
            "HTTP request sent, awaiting response... 302 Found\n",
            "Location: https://raw.githubusercontent.com/tesseract-ocr/tessdata/main/eng.traineddata [following]\n",
            "--2024-03-22 12:38:05--  https://raw.githubusercontent.com/tesseract-ocr/tessdata/main/eng.traineddata\n",
            "Resolving raw.githubusercontent.com (raw.githubusercontent.com)... 185.199.111.133, 185.199.108.133, 185.199.110.133, ...\n",
            "Connecting to raw.githubusercontent.com (raw.githubusercontent.com)|185.199.111.133|:443... connected.\n",
            "HTTP request sent, awaiting response... 200 OK\n",
            "Length: 23466654 (22M) [application/octet-stream]\n",
            "Saving to: ‘./tessdata/eng.traineddata’\n",
            "\n",
            "./tessdata/eng.trai 100%[===================>]  22.38M   138MB/s    in 0.2s    \n",
            "\n",
            "2024-03-22 12:38:05 (138 MB/s) - ‘./tessdata/eng.traineddata’ saved [23466654/23466654]\n",
            "\n"
          ]
        }
      ]
    },
    {
      "cell_type": "markdown",
      "source": [
        "instalação da biblioteca tesseract"
      ],
      "metadata": {
        "id": "eYXhmAUwFX5j"
      }
    },
    {
      "cell_type": "code",
      "source": [
        "!pip install pytesseract"
      ],
      "metadata": {
        "id": "0tqZCg7EFftv"
      },
      "execution_count": null,
      "outputs": []
    },
    {
      "cell_type": "code",
      "execution_count": 7,
      "metadata": {
        "id": "dH8cz_71DpmO"
      },
      "outputs": [],
      "source": [
        "import numpy as np\n",
        "import cv2\n",
        "import imutils\n",
        "from google.colab.patches import cv2_imshow\n",
        "from PIL import Image\n",
        "from matplotlib import pyplot as plt\n",
        "import pytesseract"
      ]
    },
    {
      "cell_type": "markdown",
      "source": [
        "Definindo imagem a ser processada"
      ],
      "metadata": {
        "id": "vMp50ABvHk67"
      }
    },
    {
      "cell_type": "code",
      "source": [
        "path = '/content/documents/cnh-01.jpeg'"
      ],
      "metadata": {
        "id": "wmn26nmOHoWn"
      },
      "execution_count": null,
      "outputs": []
    },
    {
      "cell_type": "markdown",
      "source": [
        "Vizualizar imagem a ser scaneada"
      ],
      "metadata": {
        "id": "KIhj11gVFtNB"
      }
    },
    {
      "cell_type": "code",
      "source": [
        "img = Image.open(path)\n",
        "plt.imshow(img);"
      ],
      "metadata": {
        "id": "Dko2CdvsFsVe"
      },
      "execution_count": null,
      "outputs": []
    },
    {
      "cell_type": "code",
      "source": [
        "!tesseract --help-psm"
      ],
      "metadata": {
        "id": "aFudhbKzHC3G"
      },
      "execution_count": null,
      "outputs": []
    },
    {
      "cell_type": "code",
      "source": [
        "def mostrar(img):\n",
        "  fig = plt.gcf()\n",
        "  fig.set_size_inches(20, 10)\n",
        "  plt.axis(\"off\")\n",
        "  plt.imshow(cv2.cvtColor(img, cv2.COLOR_BGR2RGB))\n",
        "  plt.show()"
      ],
      "metadata": {
        "id": "JM8WodjNHIAC"
      },
      "execution_count": 11,
      "outputs": []
    },
    {
      "cell_type": "markdown",
      "source": [
        "Convertendo imagem em RGB"
      ],
      "metadata": {
        "id": "wHw4tbkxHN_h"
      }
    },
    {
      "cell_type": "code",
      "source": [
        "img = cv2.imread(path)\n",
        "rgb = cv2.cvtColor(img, cv2.COLOR_BGR2RGB)\n",
        "cv2_imshow(rgb)"
      ],
      "metadata": {
        "id": "gVM97PCaHQeo"
      },
      "execution_count": null,
      "outputs": []
    },
    {
      "cell_type": "markdown",
      "source": [
        "Converter para Gray"
      ],
      "metadata": {
        "id": "33Jrcxw4Hxe6"
      }
    },
    {
      "cell_type": "code",
      "source": [
        "gray = cv2.cvtColor(img, cv2.COLOR_BGR2GRAY)\n",
        "cv2_imshow(gray)"
      ],
      "metadata": {
        "id": "5VUikmHlHzoS"
      },
      "execution_count": null,
      "outputs": []
    },
    {
      "cell_type": "markdown",
      "source": [
        "Extraindo informações da imagem"
      ],
      "metadata": {
        "id": "Aa0cU_FxH4sG"
      }
    },
    {
      "cell_type": "code",
      "source": [
        "config_tesseract = \"--tessdata-dir tessdata\"\n",
        "texto = pytesseract.image_to_string(gray, lang=\"por\", config=config_tesseract)\n",
        "print(texto)"
      ],
      "metadata": {
        "colab": {
          "base_uri": "https://localhost:8080/"
        },
        "id": "S21rc8nHH8p_",
        "outputId": "00b01ac4-becb-4cd4-dfb9-9c8c846b3e29"
      },
      "execution_count": 19,
      "outputs": [
        {
          "output_type": "stream",
          "name": "stdout",
          "text": [
            "( àR?EIRà MLION*. ; o SE P[RMISO DE (ONDbCClON\n",
            "21 NOME E SOBRENOME 1º HABILITAÇÃO\n",
            ", GABRIEL BATISTA DAMASCENO l 12019\n",
            "3 DATA, LOCAL E UF DE NASCIMENTO\n",
            "[ 29/09/2000 FRANCA/SP l\n",
            "4a DATA EMISSÃO 4b VALIDADE ACC\n",
            "I 19/10/2023 l I 19/10/2033 I EE D\n",
            "4c DOC. IDENTIDADE / ÓRG. EMISSOR / UF\n",
            "l 58507678 SSP/SP I\n",
            "CPF 5 Nº REGISTRO 9 Cª\"'\n",
            "l 503.782.888-06 I l 07202433561 “ ,\n",
            "NACIONALIDADE\n",
            "l BRASILEIRO !\n",
            "FILIAÇÃO 5\n",
            "MARCOS DONIZETI DAMASCENO\n",
            "\n",
            "RENATA CRISTINA BATISTA DAMASCENO\n",
            "\n",
            "12 OBSERVAÇÕES\n",
            "A\n",
            "\n",
            "EDUA\n",
            "DIRETOR\n",
            "\n",
            "LOCAL\n",
            "\n",
            "TROCINIO PAULISTA, SP\n",
            "\n",
            "EX om Sn > Bc SAO PAULO &\n",
            "\n",
            " \n",
            "\n",
            "X\n",
            "\f\n"
          ]
        }
      ]
    }
  ]
}